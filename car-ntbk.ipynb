{
 "cells": [
  {
   "cell_type": "code",
   "execution_count": 41,
   "metadata": {},
   "outputs": [],
   "source": [
    "import cv2\n",
    "import numpy as np\n",
    "import matplotlib.pyplot as plt\n",
    "import matplotlib.patches as patches\n",
    "\n",
    "from elements.control import Car_Dynamics\n",
    "%matplotlib qt"
   ]
  },
  {
   "cell_type": "code",
   "execution_count": 62,
   "metadata": {},
   "outputs": [
    {
     "data": {
      "text/plain": [
       "<matplotlib.patches.FancyArrow at 0x19a9e90b0d0>"
      ]
     },
     "execution_count": 62,
     "metadata": {},
     "output_type": "execute_result"
    }
   ],
   "source": [
    "my_car = Car_Dynamics(0, -5, 20, np.deg2rad(0), length=4, dt=0.1)\n",
    "\n",
    "# plt.scatter(my_car.x, my_car.y)\n",
    "\n",
    "plt.arrow(my_car.x, my_car.y, my_car.v*np.cos(my_car.psi), my_car.v*np.sin(my_car.psi), width = 0.30)"
   ]
  },
  {
   "cell_type": "code",
   "execution_count": 66,
   "metadata": {},
   "outputs": [],
   "source": [
    "plt.clf()\n",
    "plt.xlim((-10,10))\n",
    "plt.ylim((-10,10))\n",
    "\n",
    "for i in range(22):\n",
    "    my_car.update_state(my_car.move(0.1,  np.deg2rad(30)))\n",
    "    plt.arrow(my_car.x, my_car.y, my_car.v*np.cos(my_car.psi)/60, my_car.v*np.sin(my_car.psi)/60, width = 0.1)\n",
    "    plt.pause(0.01)\n",
    "\n",
    "plt.show()"
   ]
  }
 ],
 "metadata": {
  "kernelspec": {
   "display_name": "base",
   "language": "python",
   "name": "python3"
  },
  "language_info": {
   "codemirror_mode": {
    "name": "ipython",
    "version": 3
   },
   "file_extension": ".py",
   "mimetype": "text/x-python",
   "name": "python",
   "nbconvert_exporter": "python",
   "pygments_lexer": "ipython3",
   "version": "3.8.5"
  },
  "orig_nbformat": 4,
  "vscode": {
   "interpreter": {
    "hash": "3a5e053339d0d19cabd3b14ab4a4c4379548b12299071455c7b1ca152d329943"
   }
  }
 },
 "nbformat": 4,
 "nbformat_minor": 2
}
